{
 "cells": [
  {
   "cell_type": "markdown",
   "id": "00c9b343",
   "metadata": {},
   "source": [
    "## Single Inheritance"
   ]
  },
  {
   "cell_type": "code",
   "execution_count": 1,
   "id": "050851cf",
   "metadata": {},
   "outputs": [],
   "source": [
    "class Vehicle:\n",
    "    def general_usage(self):\n",
    "        print(\"general use : transportation\")\n",
    "\n",
    "class Car(Vehicle):\n",
    "    def __init__(self):\n",
    "        print(\"I'm car\")\n",
    "        self.wheels = 4\n",
    "        self.has_roof = True\n",
    "    \n",
    "    def specific_usage(self):\n",
    "        print(\"specific usage: commute to work, vacation with family\")\n",
    "\n",
    "class MotorCycle(Vehicle):\n",
    "    def __init__(self):\n",
    "        super().__init__()\n",
    "        print(\"I'm motor cycle\")\n",
    "        self.wheels = 2\n",
    "        self.has_roof = False\n",
    "    \n",
    "    def specific_usage(self):\n",
    "        print(\"specific usage: road trip , racing\")\n",
    "     \n"
   ]
  },
  {
   "cell_type": "code",
   "execution_count": 2,
   "id": "8108f680",
   "metadata": {},
   "outputs": [
    {
     "name": "stdout",
     "output_type": "stream",
     "text": [
      "I'm car\n"
     ]
    }
   ],
   "source": [
    "c = Car()"
   ]
  },
  {
   "cell_type": "code",
   "execution_count": 3,
   "id": "dc5784e4",
   "metadata": {},
   "outputs": [
    {
     "name": "stdout",
     "output_type": "stream",
     "text": [
      "general use : transportation\n"
     ]
    }
   ],
   "source": [
    "c.general_usage()"
   ]
  },
  {
   "cell_type": "code",
   "execution_count": 4,
   "id": "e08133c1",
   "metadata": {},
   "outputs": [
    {
     "name": "stdout",
     "output_type": "stream",
     "text": [
      "I'm motor cycle\n"
     ]
    }
   ],
   "source": [
    "m = MotorCycle()"
   ]
  },
  {
   "cell_type": "code",
   "execution_count": 5,
   "id": "4279704d",
   "metadata": {},
   "outputs": [
    {
     "name": "stdout",
     "output_type": "stream",
     "text": [
      "general use : transportation\n"
     ]
    }
   ],
   "source": [
    "m.general_usage()"
   ]
  },
  {
   "cell_type": "code",
   "execution_count": 6,
   "id": "63464292",
   "metadata": {},
   "outputs": [
    {
     "name": "stdout",
     "output_type": "stream",
     "text": [
      "specific usage: road trip , racing\n"
     ]
    }
   ],
   "source": [
    "\n",
    "m.specific_usage()"
   ]
  },
  {
   "cell_type": "code",
   "execution_count": 7,
   "id": "77a5cb5f",
   "metadata": {},
   "outputs": [
    {
     "data": {
      "text/plain": [
       "True"
      ]
     },
     "execution_count": 7,
     "metadata": {},
     "output_type": "execute_result"
    }
   ],
   "source": [
    "isinstance(c, Car)"
   ]
  },
  {
   "cell_type": "code",
   "execution_count": 8,
   "id": "3ee4d3ae",
   "metadata": {},
   "outputs": [
    {
     "data": {
      "text/plain": [
       "True"
      ]
     },
     "execution_count": 8,
     "metadata": {},
     "output_type": "execute_result"
    }
   ],
   "source": [
    "isinstance(c,Vehicle)"
   ]
  },
  {
   "cell_type": "code",
   "execution_count": 9,
   "id": "e96b4785",
   "metadata": {},
   "outputs": [
    {
     "data": {
      "text/plain": [
       "True"
      ]
     },
     "execution_count": 9,
     "metadata": {},
     "output_type": "execute_result"
    }
   ],
   "source": [
    "issubclass(Car,Vehicle)"
   ]
  },
  {
   "cell_type": "code",
   "execution_count": 10,
   "id": "a8e53ffa",
   "metadata": {},
   "outputs": [
    {
     "data": {
      "text/plain": [
       "False"
      ]
     },
     "execution_count": 10,
     "metadata": {},
     "output_type": "execute_result"
    }
   ],
   "source": [
    "issubclass(Vehicle,Car)"
   ]
  },
  {
   "cell_type": "markdown",
   "id": "ee654d6d",
   "metadata": {},
   "source": [
    "## Multiple Inheritance"
   ]
  },
  {
   "cell_type": "code",
   "execution_count": 11,
   "id": "cef7ca6e",
   "metadata": {},
   "outputs": [],
   "source": [
    "class Father():\n",
    "    def gardening(self):\n",
    "        print(\"I enjoy gardening\")\n",
    "    \n",
    "    def skills(self):\n",
    "        print(\"gardening, coding\")\n",
    "class Mother():\n",
    "    def cooking(self):\n",
    "        print(\"I love cooking\")\n",
    "    def skills(self):\n",
    "        print(\"cooking, art\")\n",
    "class Child(Father,Mother):\n",
    "    def sport(self):\n",
    "        print(\"I enjoy sports\")\n",
    "    def skills(self):\n",
    "        Father.skills(self)\n",
    "        Mother.skills(self)\n",
    "        print(\"sports\")\n"
   ]
  },
  {
   "cell_type": "code",
   "execution_count": 12,
   "id": "cba51d2f",
   "metadata": {},
   "outputs": [],
   "source": [
    "c = Child()\n"
   ]
  },
  {
   "cell_type": "code",
   "execution_count": 13,
   "id": "fa698e1c",
   "metadata": {},
   "outputs": [
    {
     "name": "stdout",
     "output_type": "stream",
     "text": [
      "I enjoy gardening\n"
     ]
    }
   ],
   "source": [
    "c.gardening()"
   ]
  },
  {
   "cell_type": "code",
   "execution_count": 14,
   "id": "461a46fa",
   "metadata": {},
   "outputs": [
    {
     "name": "stdout",
     "output_type": "stream",
     "text": [
      "I love cooking\n"
     ]
    }
   ],
   "source": [
    "c.cooking()"
   ]
  },
  {
   "cell_type": "code",
   "execution_count": 15,
   "id": "f8a21c00",
   "metadata": {},
   "outputs": [
    {
     "name": "stdout",
     "output_type": "stream",
     "text": [
      "I enjoy sports\n"
     ]
    }
   ],
   "source": [
    "c.sport()"
   ]
  },
  {
   "cell_type": "code",
   "execution_count": 16,
   "id": "6d49a2ce",
   "metadata": {},
   "outputs": [
    {
     "name": "stdout",
     "output_type": "stream",
     "text": [
      "gardening, coding\n",
      "cooking, art\n",
      "sports\n"
     ]
    }
   ],
   "source": [
    "c.skills()"
   ]
  }
 ],
 "metadata": {
  "kernelspec": {
   "display_name": "dul01",
   "language": "python",
   "name": "python3"
  },
  "language_info": {
   "codemirror_mode": {
    "name": "ipython",
    "version": 3
   },
   "file_extension": ".py",
   "mimetype": "text/x-python",
   "name": "python",
   "nbconvert_exporter": "python",
   "pygments_lexer": "ipython3",
   "version": "3.9.18"
  }
 },
 "nbformat": 4,
 "nbformat_minor": 5
}
