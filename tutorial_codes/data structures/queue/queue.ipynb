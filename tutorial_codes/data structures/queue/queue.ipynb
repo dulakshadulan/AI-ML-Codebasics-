{
 "cells": [
  {
   "cell_type": "code",
   "execution_count": 1,
   "id": "7de11d86",
   "metadata": {},
   "outputs": [],
   "source": [
    "stock_prices = []"
   ]
  },
  {
   "cell_type": "code",
   "execution_count": 2,
   "id": "92806f1e",
   "metadata": {},
   "outputs": [],
   "source": [
    "stock_prices.insert(0,131.10)\n",
    "stock_prices.insert(0,132.20)\n",
    "stock_prices.insert(0,135.0)"
   ]
  },
  {
   "cell_type": "code",
   "execution_count": 3,
   "id": "e1f1dfb3",
   "metadata": {},
   "outputs": [
    {
     "data": {
      "text/plain": [
       "[135.0, 132.2, 131.1]"
      ]
     },
     "execution_count": 3,
     "metadata": {},
     "output_type": "execute_result"
    }
   ],
   "source": [
    "stock_prices"
   ]
  },
  {
   "cell_type": "code",
   "execution_count": 4,
   "id": "e225d36e",
   "metadata": {},
   "outputs": [
    {
     "data": {
      "text/plain": [
       "131.1"
      ]
     },
     "execution_count": 4,
     "metadata": {},
     "output_type": "execute_result"
    }
   ],
   "source": [
    "stock_prices.pop()"
   ]
  },
  {
   "cell_type": "code",
   "execution_count": 5,
   "id": "83e70dd7",
   "metadata": {},
   "outputs": [
    {
     "data": {
      "text/plain": [
       "132.2"
      ]
     },
     "execution_count": 5,
     "metadata": {},
     "output_type": "execute_result"
    }
   ],
   "source": [
    "stock_prices.pop()"
   ]
  },
  {
   "cell_type": "code",
   "execution_count": 6,
   "id": "89040a7b",
   "metadata": {},
   "outputs": [
    {
     "data": {
      "text/plain": [
       "135.0"
      ]
     },
     "execution_count": 6,
     "metadata": {},
     "output_type": "execute_result"
    }
   ],
   "source": [
    "stock_prices.pop()"
   ]
  },
  {
   "cell_type": "code",
   "execution_count": 7,
   "id": "fb2cf269",
   "metadata": {},
   "outputs": [
    {
     "data": {
      "text/plain": [
       "[]"
      ]
     },
     "execution_count": 7,
     "metadata": {},
     "output_type": "execute_result"
    }
   ],
   "source": [
    "stock_prices"
   ]
  },
  {
   "cell_type": "code",
   "execution_count": 8,
   "id": "87d90659",
   "metadata": {},
   "outputs": [],
   "source": [
    "from collections import deque\n",
    "q = deque()\n"
   ]
  },
  {
   "cell_type": "code",
   "execution_count": 9,
   "id": "e2f89c8e",
   "metadata": {},
   "outputs": [],
   "source": [
    "q.appendleft(131.10)\n",
    "q.appendleft(132.20)\n",
    "q.appendleft(135.0)"
   ]
  },
  {
   "cell_type": "code",
   "execution_count": 10,
   "id": "42b15c49",
   "metadata": {},
   "outputs": [
    {
     "data": {
      "text/plain": [
       "131.1"
      ]
     },
     "execution_count": 10,
     "metadata": {},
     "output_type": "execute_result"
    }
   ],
   "source": [
    "q.pop()"
   ]
  },
  {
   "cell_type": "code",
   "execution_count": 11,
   "id": "c71f7c39",
   "metadata": {},
   "outputs": [
    {
     "data": {
      "text/plain": [
       "deque([135.0, 132.2])"
      ]
     },
     "execution_count": 11,
     "metadata": {},
     "output_type": "execute_result"
    }
   ],
   "source": [
    "q"
   ]
  },
  {
   "cell_type": "code",
   "execution_count": 12,
   "id": "123805e2",
   "metadata": {},
   "outputs": [],
   "source": [
    "from collections import deque\n",
    "\n",
    "class Queue:\n",
    "\n",
    "    def __init__(self):\n",
    "        self.buffer = deque()\n",
    "\n",
    "    def enqueue(self,val):\n",
    "        self.buffer.appendleft(val)\n",
    "    \n",
    "    def dequeue(self):\n",
    "        return self.buffer.pop()\n",
    "    \n",
    "    def is_empty(self):\n",
    "        return len(self.buffer) == 0\n",
    "    \n",
    "    def size(self):\n",
    "        return len(self.buffer)\n",
    "\n"
   ]
  },
  {
   "cell_type": "code",
   "execution_count": 13,
   "id": "9ab7da72",
   "metadata": {},
   "outputs": [],
   "source": [
    "q = Queue()"
   ]
  },
  {
   "cell_type": "code",
   "execution_count": 14,
   "id": "a3979dc1",
   "metadata": {},
   "outputs": [],
   "source": [
    "q.enqueue({ \n",
    "    'company' : 'Wall mart',\n",
    "    'location' : 'USA',\n",
    "    'price': 131.10 })\n",
    "q.enqueue({\n",
    "        'company' : 'Target',\n",
    "        'location': 'USA', \n",
    "        'price': 120.50 }\n",
    "\n",
    ")"
   ]
  },
  {
   "cell_type": "code",
   "execution_count": 15,
   "id": "4608ab77",
   "metadata": {},
   "outputs": [
    {
     "data": {
      "text/plain": [
       "<__main__.Queue at 0x247f5c9d0a0>"
      ]
     },
     "execution_count": 15,
     "metadata": {},
     "output_type": "execute_result"
    }
   ],
   "source": [
    "q"
   ]
  },
  {
   "cell_type": "code",
   "execution_count": 16,
   "id": "c47f0bb4",
   "metadata": {},
   "outputs": [
    {
     "data": {
      "text/plain": [
       "False"
      ]
     },
     "execution_count": 16,
     "metadata": {},
     "output_type": "execute_result"
    }
   ],
   "source": [
    "q.is_empty()"
   ]
  },
  {
   "cell_type": "code",
   "execution_count": 17,
   "id": "6066bb75",
   "metadata": {},
   "outputs": [
    {
     "data": {
      "text/plain": [
       "2"
      ]
     },
     "execution_count": 17,
     "metadata": {},
     "output_type": "execute_result"
    }
   ],
   "source": [
    "q.size()"
   ]
  },
  {
   "cell_type": "code",
   "execution_count": 18,
   "id": "05a79c44",
   "metadata": {},
   "outputs": [
    {
     "data": {
      "text/plain": [
       "{'company': 'Wall mart', 'location': 'USA', 'price': 131.1}"
      ]
     },
     "execution_count": 18,
     "metadata": {},
     "output_type": "execute_result"
    }
   ],
   "source": [
    "q.dequeue()"
   ]
  },
  {
   "cell_type": "code",
   "execution_count": 21,
   "id": "2ece0066",
   "metadata": {},
   "outputs": [],
   "source": [
    "from collections import deque\n",
    "\n",
    "class Queue:\n",
    "\n",
    "    def __init__(self):\n",
    "        self.buffer = deque()\n",
    "\n",
    "    def enqueue(self,val):\n",
    "        self.buffer.appendleft(val)\n",
    "    \n",
    "    def dequeue(self):\n",
    "        return self.buffer.pop()\n",
    "    \n",
    "    def is_empty(self):\n",
    "        return len(self.buffer) == 0\n",
    "    \n",
    "    def size(self):\n",
    "        return len(self.buffer)\n",
    "    \n",
    "Q = Queue()\n",
    "\n",
    "orders = ['pizza','samosa','pasta','biryani','burger']\n",
    "\n",
    "import time\n",
    "import threading\n",
    "\n",
    "def place_order(orders):\n",
    "    for food in orders:\n",
    "        time.sleep(0.5)\n",
    "        Q.enqueue(food)\n",
    "        # print(food, \"ordered\")\n",
    "\n",
    "def serve_order():\n",
    "\n",
    "    time.sleep(1)\n",
    "    while not Q.is_empty:\n",
    "        food = Q.dequeue()\n",
    "        print(food, \"served\")\n",
    "\n",
    "\n",
    "\n",
    "t1 = threading.Thread(target=place_order, args=(orders,))\n",
    "t2 = threading.Thread(target=serve_order)\n",
    "\n",
    "t1.start()\n",
    "t2.start()\n",
    "\n",
    "t1.join()\n",
    "t2.join()"
   ]
  },
  {
   "cell_type": "code",
   "execution_count": 23,
   "id": "2d2192fc",
   "metadata": {},
   "outputs": [
    {
     "name": "stdout",
     "output_type": "stream",
     "text": [
      "1\n",
      "10\n",
      "11\n",
      "100\n",
      "101\n",
      "110\n",
      "111\n",
      "1000\n",
      "1001\n",
      "1010\n",
      "1011\n",
      "1100\n",
      "1101\n",
      "1110\n",
      "1111\n",
      "10000\n",
      "10001\n",
      "10010\n",
      "10011\n",
      "10100\n",
      "10101\n",
      "10110\n",
      "10111\n",
      "11000\n",
      "11001\n",
      "11010\n",
      "11011\n",
      "11100\n",
      "11101\n",
      "11110\n",
      "11111\n",
      "100000\n",
      "100001\n",
      "100010\n",
      "100011\n",
      "100100\n",
      "100101\n",
      "100110\n",
      "100111\n",
      "101000\n",
      "101001\n",
      "101010\n",
      "101011\n",
      "101100\n",
      "101101\n",
      "101110\n",
      "101111\n",
      "110000\n",
      "110001\n",
      "110010\n",
      "110011\n",
      "110100\n",
      "110101\n",
      "110110\n",
      "110111\n",
      "111000\n",
      "111001\n",
      "111010\n",
      "111011\n",
      "111100\n",
      "111101\n",
      "111110\n",
      "111111\n",
      "1000000\n",
      "1000001\n",
      "1000010\n",
      "1000011\n",
      "1000100\n",
      "1000101\n",
      "1000110\n",
      "1000111\n",
      "1001000\n",
      "1001001\n",
      "1001010\n",
      "1001011\n",
      "1001100\n",
      "1001101\n",
      "1001110\n",
      "1001111\n",
      "1010000\n",
      "1010001\n",
      "1010010\n",
      "1010011\n",
      "1010100\n",
      "1010101\n",
      "1010110\n",
      "1010111\n",
      "1011000\n",
      "1011001\n",
      "1011010\n",
      "1011011\n",
      "1011100\n",
      "1011101\n",
      "1011110\n",
      "1011111\n",
      "1100000\n",
      "1100001\n",
      "1100010\n",
      "1100011\n",
      "1100100\n"
     ]
    }
   ],
   "source": [
    "from collections import deque\n",
    "\n",
    "class Queue:\n",
    "\n",
    "    def __init__(self):\n",
    "        self.buffer = deque()\n",
    "\n",
    "    def enqueue(self,val):\n",
    "        self.buffer.appendleft(val)\n",
    "    \n",
    "    def dequeue(self):\n",
    "        return self.buffer.pop()\n",
    "    \n",
    "    def is_empty(self):\n",
    "        return len(self.buffer) == 0\n",
    "    \n",
    "    def size(self):\n",
    "        return len(self.buffer)\n",
    "    \n",
    "    def front(self):\n",
    "        return self.buffer[-1]\n",
    "    \n",
    "def generate_binary_numbers(n):\n",
    "    q = Queue()\n",
    "    q.enqueue(\"1\")\n",
    "\n",
    "    for i in range(n):\n",
    "        front = q.front()\n",
    "        print(front)\n",
    "        q.enqueue(front + \"0\")\n",
    "        q.enqueue(front + \"1\")\n",
    "        q.dequeue()\n",
    "\n",
    "generate_binary_numbers(100)\n"
   ]
  },
  {
   "cell_type": "code",
   "execution_count": null,
   "id": "10b71bf9",
   "metadata": {},
   "outputs": [],
   "source": []
  }
 ],
 "metadata": {
  "kernelspec": {
   "display_name": "dul01",
   "language": "python",
   "name": "python3"
  },
  "language_info": {
   "codemirror_mode": {
    "name": "ipython",
    "version": 3
   },
   "file_extension": ".py",
   "mimetype": "text/x-python",
   "name": "python",
   "nbconvert_exporter": "python",
   "pygments_lexer": "ipython3",
   "version": "3.9.18"
  }
 },
 "nbformat": 4,
 "nbformat_minor": 5
}
