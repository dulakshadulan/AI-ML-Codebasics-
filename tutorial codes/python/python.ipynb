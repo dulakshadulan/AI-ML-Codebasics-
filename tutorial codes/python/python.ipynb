{
 "cells": [
  {
   "cell_type": "code",
   "execution_count": 1,
   "id": "0e35eca7",
   "metadata": {},
   "outputs": [],
   "source": [
    "d = {\"Tom\" : 1234 , \"Jerry\" : 5678}\n"
   ]
  },
  {
   "cell_type": "code",
   "execution_count": 2,
   "id": "bfb9204a",
   "metadata": {},
   "outputs": [
    {
     "name": "stdout",
     "output_type": "stream",
     "text": [
      "<class 'dict'>\n"
     ]
    }
   ],
   "source": [
    "print(type(d))"
   ]
  },
  {
   "cell_type": "code",
   "execution_count": 3,
   "id": "d51990a5",
   "metadata": {},
   "outputs": [
    {
     "data": {
      "text/plain": [
       "1234"
      ]
     },
     "execution_count": 3,
     "metadata": {},
     "output_type": "execute_result"
    }
   ],
   "source": [
    "d[\"Tom\"]"
   ]
  },
  {
   "cell_type": "code",
   "execution_count": 4,
   "id": "20bb4996",
   "metadata": {},
   "outputs": [
    {
     "data": {
      "text/plain": [
       "{'Tom': 1234, 'Jerry': 5678}"
      ]
     },
     "execution_count": 4,
     "metadata": {},
     "output_type": "execute_result"
    }
   ],
   "source": [
    "d"
   ]
  },
  {
   "cell_type": "code",
   "execution_count": 5,
   "id": "0e8bd414",
   "metadata": {},
   "outputs": [
    {
     "data": {
      "text/plain": [
       "dict_items([('Tom', 1234), ('Jerry', 5678)])"
      ]
     },
     "execution_count": 5,
     "metadata": {},
     "output_type": "execute_result"
    }
   ],
   "source": [
    "d.items()"
   ]
  },
  {
   "cell_type": "code",
   "execution_count": 6,
   "id": "4a1924f9",
   "metadata": {},
   "outputs": [
    {
     "data": {
      "text/plain": [
       "True"
      ]
     },
     "execution_count": 6,
     "metadata": {},
     "output_type": "execute_result"
    }
   ],
   "source": [
    "\"Tom\" in d"
   ]
  },
  {
   "cell_type": "code",
   "execution_count": 7,
   "id": "5b3d937b",
   "metadata": {},
   "outputs": [
    {
     "data": {
      "text/plain": [
       "False"
      ]
     },
     "execution_count": 7,
     "metadata": {},
     "output_type": "execute_result"
    }
   ],
   "source": [
    "1234 in d"
   ]
  },
  {
   "cell_type": "code",
   "execution_count": 8,
   "id": "148e0169",
   "metadata": {},
   "outputs": [],
   "source": [
    "d.clear()"
   ]
  },
  {
   "cell_type": "code",
   "execution_count": 9,
   "id": "e6f14b43",
   "metadata": {},
   "outputs": [
    {
     "data": {
      "text/plain": [
       "264"
      ]
     },
     "execution_count": 9,
     "metadata": {},
     "output_type": "execute_result"
    }
   ],
   "source": [
    "import matplotlib.pyplot as plt\n",
    "len(dir(plt))"
   ]
  },
  {
   "cell_type": "code",
   "execution_count": 10,
   "id": "1a00baac",
   "metadata": {},
   "outputs": [],
   "source": [
    "import calendar"
   ]
  },
  {
   "cell_type": "code",
   "execution_count": 11,
   "id": "c63dc15f",
   "metadata": {},
   "outputs": [],
   "source": [
    "cal = calendar.month(2016,1)"
   ]
  },
  {
   "cell_type": "code",
   "execution_count": 12,
   "id": "13dc422c",
   "metadata": {},
   "outputs": [
    {
     "data": {
      "text/plain": [
       "str"
      ]
     },
     "execution_count": 12,
     "metadata": {},
     "output_type": "execute_result"
    }
   ],
   "source": [
    "type(cal)"
   ]
  },
  {
   "cell_type": "code",
   "execution_count": 13,
   "id": "cba4b5a5",
   "metadata": {},
   "outputs": [
    {
     "data": {
      "text/plain": [
       "False"
      ]
     },
     "execution_count": 13,
     "metadata": {},
     "output_type": "execute_result"
    }
   ],
   "source": [
    "calendar.isleap(2015)"
   ]
  },
  {
   "cell_type": "code",
   "execution_count": 14,
   "id": "99c30287",
   "metadata": {},
   "outputs": [
    {
     "data": {
      "text/plain": [
       "['Calendar',\n",
       " 'EPOCH',\n",
       " 'FRIDAY',\n",
       " 'February',\n",
       " 'HTMLCalendar',\n",
       " 'IllegalMonthError',\n",
       " 'IllegalWeekdayError',\n",
       " 'January',\n",
       " 'LocaleHTMLCalendar',\n",
       " 'LocaleTextCalendar',\n",
       " 'MONDAY',\n",
       " 'SATURDAY',\n",
       " 'SUNDAY',\n",
       " 'THURSDAY',\n",
       " 'TUESDAY',\n",
       " 'TextCalendar',\n",
       " 'WEDNESDAY',\n",
       " '_EPOCH_ORD',\n",
       " '__all__',\n",
       " '__builtins__',\n",
       " '__cached__',\n",
       " '__doc__',\n",
       " '__file__',\n",
       " '__loader__',\n",
       " '__name__',\n",
       " '__package__',\n",
       " '__spec__',\n",
       " '_colwidth',\n",
       " '_locale',\n",
       " '_localized_day',\n",
       " '_localized_month',\n",
       " '_monthlen',\n",
       " '_nextmonth',\n",
       " '_prevmonth',\n",
       " '_spacing',\n",
       " 'c',\n",
       " 'calendar',\n",
       " 'datetime',\n",
       " 'day_abbr',\n",
       " 'day_name',\n",
       " 'different_locale',\n",
       " 'error',\n",
       " 'firstweekday',\n",
       " 'format',\n",
       " 'formatstring',\n",
       " 'isleap',\n",
       " 'leapdays',\n",
       " 'main',\n",
       " 'mdays',\n",
       " 'month',\n",
       " 'month_abbr',\n",
       " 'month_name',\n",
       " 'monthcalendar',\n",
       " 'monthrange',\n",
       " 'prcal',\n",
       " 'prmonth',\n",
       " 'prweek',\n",
       " 'repeat',\n",
       " 'setfirstweekday',\n",
       " 'sys',\n",
       " 'timegm',\n",
       " 'week',\n",
       " 'weekday',\n",
       " 'weekheader']"
      ]
     },
     "execution_count": 14,
     "metadata": {},
     "output_type": "execute_result"
    }
   ],
   "source": [
    "dir(calendar)"
   ]
  },
  {
   "cell_type": "markdown",
   "id": "84c6f4e3",
   "metadata": {},
   "source": [
    "## json"
   ]
  },
  {
   "cell_type": "code",
   "execution_count": 15,
   "id": "27719e1b",
   "metadata": {},
   "outputs": [],
   "source": [
    "book = {}\n",
    "book['tom'] = {\n",
    "    'name' : 'tom',\n",
    "    'address': '1 red street, NY',\n",
    "    'phone' : 98989898\n",
    "}\n",
    "\n",
    "book['bob'] = {\n",
    "    'name' : 'bob',\n",
    "    'address': '1 green street, NY',\n",
    "    'phone' : 23232323\n",
    "}\n"
   ]
  },
  {
   "cell_type": "code",
   "execution_count": 16,
   "id": "042d3c63",
   "metadata": {},
   "outputs": [
    {
     "data": {
      "text/plain": [
       "{'tom': {'name': 'tom', 'address': '1 red street, NY', 'phone': 98989898},\n",
       " 'bob': {'name': 'bob', 'address': '1 green street, NY', 'phone': 23232323}}"
      ]
     },
     "execution_count": 16,
     "metadata": {},
     "output_type": "execute_result"
    }
   ],
   "source": [
    "book"
   ]
  },
  {
   "cell_type": "code",
   "execution_count": 17,
   "id": "89fe05e3",
   "metadata": {},
   "outputs": [
    {
     "data": {
      "text/plain": [
       "'{\"tom\": {\"name\": \"tom\", \"address\": \"1 red street, NY\", \"phone\": 98989898}, \"bob\": {\"name\": \"bob\", \"address\": \"1 green street, NY\", \"phone\": 23232323}}'"
      ]
     },
     "execution_count": 17,
     "metadata": {},
     "output_type": "execute_result"
    }
   ],
   "source": [
    "import json\n",
    "json.dumps(book)"
   ]
  },
  {
   "cell_type": "code",
   "execution_count": 18,
   "id": "7ff0efbc",
   "metadata": {},
   "outputs": [],
   "source": [
    "s = json.dumps(book)"
   ]
  },
  {
   "cell_type": "code",
   "execution_count": 19,
   "id": "d303744b",
   "metadata": {},
   "outputs": [],
   "source": [
    "with open(\"F://Codes//book.txt\",'w') as f :\n",
    "    f.write(s)"
   ]
  },
  {
   "cell_type": "code",
   "execution_count": 20,
   "id": "b4772d24",
   "metadata": {},
   "outputs": [],
   "source": [
    "f = open(\"F://Codes//book.txt\",'r')"
   ]
  },
  {
   "cell_type": "code",
   "execution_count": 21,
   "id": "790dcf68",
   "metadata": {},
   "outputs": [
    {
     "data": {
      "text/plain": [
       "<_io.TextIOWrapper name='F://Codes//book.txt' mode='r' encoding='UTF-8'>"
      ]
     },
     "execution_count": 21,
     "metadata": {},
     "output_type": "execute_result"
    }
   ],
   "source": [
    "f\n"
   ]
  },
  {
   "cell_type": "code",
   "execution_count": 22,
   "id": "34538ec8",
   "metadata": {},
   "outputs": [],
   "source": [
    "s = f.read()"
   ]
  },
  {
   "cell_type": "code",
   "execution_count": 23,
   "id": "68fd8d48",
   "metadata": {},
   "outputs": [
    {
     "data": {
      "text/plain": [
       "'{\"tom\": {\"name\": \"tom\", \"address\": \"1 red street, NY\", \"phone\": 98989898}, \"bob\": {\"name\": \"bob\", \"address\": \"1 green street, NY\", \"phone\": 23232323}}'"
      ]
     },
     "execution_count": 23,
     "metadata": {},
     "output_type": "execute_result"
    }
   ],
   "source": [
    "s"
   ]
  },
  {
   "cell_type": "code",
   "execution_count": 24,
   "id": "e0ce81ed",
   "metadata": {},
   "outputs": [],
   "source": [
    "book = json.loads(s)"
   ]
  },
  {
   "cell_type": "code",
   "execution_count": 25,
   "id": "51cd8301",
   "metadata": {},
   "outputs": [
    {
     "data": {
      "text/plain": [
       "{'name': 'tom', 'address': '1 red street, NY', 'phone': 98989898}"
      ]
     },
     "execution_count": 25,
     "metadata": {},
     "output_type": "execute_result"
    }
   ],
   "source": [
    "book[\"tom\"]"
   ]
  },
  {
   "cell_type": "code",
   "execution_count": 26,
   "id": "e20a9f5a",
   "metadata": {},
   "outputs": [
    {
     "data": {
      "text/plain": [
       "'1 green street, NY'"
      ]
     },
     "execution_count": 26,
     "metadata": {},
     "output_type": "execute_result"
    }
   ],
   "source": [
    "book['bob']['address']"
   ]
  },
  {
   "cell_type": "code",
   "execution_count": 27,
   "id": "94d71074",
   "metadata": {},
   "outputs": [
    {
     "name": "stdout",
     "output_type": "stream",
     "text": [
      "{'name': 'tom', 'address': '1 red street, NY', 'phone': 98989898}\n",
      "{'name': 'bob', 'address': '1 green street, NY', 'phone': 23232323}\n"
     ]
    }
   ],
   "source": [
    "for person in book:\n",
    "    print(book[person])"
   ]
  },
  {
   "cell_type": "markdown",
   "id": "0bad7ea9",
   "metadata": {},
   "source": [
    "if__name__main"
   ]
  },
  {
   "cell_type": "code",
   "execution_count": 28,
   "id": "62afa969",
   "metadata": {},
   "outputs": [
    {
     "data": {
      "text/plain": [
       "'__main__'"
      ]
     },
     "execution_count": 28,
     "metadata": {},
     "output_type": "execute_result"
    }
   ],
   "source": [
    "__name__"
   ]
  },
  {
   "cell_type": "markdown",
   "id": "b260514f",
   "metadata": {},
   "source": [
    "### Class"
   ]
  },
  {
   "cell_type": "code",
   "execution_count": 30,
   "id": "8b9a7f09",
   "metadata": {},
   "outputs": [],
   "source": [
    "class Human:\n",
    "    def __init__(self,n,o):\n",
    "        self.name = n\n",
    "        self.occupation = o\n",
    "\n",
    "    def do_work(self):\n",
    "        if self.occupation == \"tennis player\":\n",
    "            print(self.name , \"plays tennis\")\n",
    "        elif self.occupation == \"actor\":\n",
    "            print(self.name , \"shoots a film\")\n",
    "    \n",
    "    def speaks(self):\n",
    "        print(self.name , \"says how are you?\")\n",
    "        "
   ]
  },
  {
   "cell_type": "code",
   "execution_count": 31,
   "id": "b2c1a4b3",
   "metadata": {},
   "outputs": [],
   "source": [
    "tom = Human(\"Tom Cruise\", \"actor\")\n"
   ]
  },
  {
   "cell_type": "code",
   "execution_count": 32,
   "id": "695f3046",
   "metadata": {},
   "outputs": [
    {
     "data": {
      "text/plain": [
       "'Tom Cruise'"
      ]
     },
     "execution_count": 32,
     "metadata": {},
     "output_type": "execute_result"
    }
   ],
   "source": [
    "tom.name"
   ]
  },
  {
   "cell_type": "code",
   "execution_count": 33,
   "id": "8bf6ed91",
   "metadata": {},
   "outputs": [
    {
     "data": {
      "text/plain": [
       "'actor'"
      ]
     },
     "execution_count": 33,
     "metadata": {},
     "output_type": "execute_result"
    }
   ],
   "source": [
    "tom.occupation"
   ]
  },
  {
   "cell_type": "code",
   "execution_count": 34,
   "id": "0d8eab13",
   "metadata": {},
   "outputs": [
    {
     "name": "stdout",
     "output_type": "stream",
     "text": [
      "Tom Cruise says how are you?\n"
     ]
    }
   ],
   "source": [
    "tom.speaks()"
   ]
  },
  {
   "cell_type": "code",
   "execution_count": 36,
   "id": "9d3566c7",
   "metadata": {},
   "outputs": [
    {
     "name": "stdout",
     "output_type": "stream",
     "text": [
      "Tom Cruise shoots a film\n"
     ]
    }
   ],
   "source": [
    "tom.do_work()"
   ]
  },
  {
   "cell_type": "code",
   "execution_count": 37,
   "id": "fcd01740",
   "metadata": {},
   "outputs": [
    {
     "name": "stdout",
     "output_type": "stream",
     "text": [
      "maria sharapova plays tennis\n",
      "maria sharapova says how are you?\n"
     ]
    }
   ],
   "source": [
    "maria = Human(\"maria sharapova\", \"tennis player\")\n",
    "\n",
    "maria.do_work()\n",
    "maria.speaks()"
   ]
  },
  {
   "cell_type": "markdown",
   "id": "022baa81",
   "metadata": {},
   "source": [
    "Exercise"
   ]
  },
  {
   "cell_type": "code",
   "execution_count": 38,
   "id": "83ce2208",
   "metadata": {},
   "outputs": [],
   "source": [
    "def area(base,height):\n",
    "    return base*height*1/2"
   ]
  },
  {
   "cell_type": "code",
   "execution_count": 39,
   "id": "00f2ad98",
   "metadata": {},
   "outputs": [],
   "source": [
    "def area(base,height , type = \"triangle\"):\n",
    "    if type == \"triangle\":\n",
    "        return base*height*1/2\n",
    "    elif type == \"rectangle\":\n",
    "        return base*height\n",
    "    "
   ]
  },
  {
   "cell_type": "code",
   "execution_count": 40,
   "id": "699f9011",
   "metadata": {},
   "outputs": [
    {
     "data": {
      "text/plain": [
       "100"
      ]
     },
     "execution_count": 40,
     "metadata": {},
     "output_type": "execute_result"
    }
   ],
   "source": [
    "area(10,10,\"rectangle\")"
   ]
  },
  {
   "cell_type": "code",
   "execution_count": 46,
   "id": "2d9fd1b9",
   "metadata": {},
   "outputs": [],
   "source": [
    "def print_pattern(n):\n",
    "    for i in range(1,n+1):\n",
    "        print(\"*\" * i + \"\\n\")"
   ]
  },
  {
   "cell_type": "code",
   "execution_count": 47,
   "id": "0f1b6d57",
   "metadata": {},
   "outputs": [
    {
     "name": "stdout",
     "output_type": "stream",
     "text": [
      "*\n",
      "\n",
      "**\n",
      "\n",
      "***\n",
      "\n"
     ]
    }
   ],
   "source": [
    "print_pattern(3)"
   ]
  },
  {
   "cell_type": "code",
   "execution_count": 48,
   "id": "9bd531b2",
   "metadata": {},
   "outputs": [],
   "source": [
    "population = {\"China\": 143, \n",
    "              \"India\": 136,\n",
    "              \"USA\": 32,\n",
    "              \"Pakistan\": 21}"
   ]
  },
  {
   "cell_type": "code",
   "execution_count": null,
   "id": "1ab5af7f",
   "metadata": {},
   "outputs": [],
   "source": []
  }
 ],
 "metadata": {
  "kernelspec": {
   "display_name": "dul01",
   "language": "python",
   "name": "python3"
  },
  "language_info": {
   "codemirror_mode": {
    "name": "ipython",
    "version": 3
   },
   "file_extension": ".py",
   "mimetype": "text/x-python",
   "name": "python",
   "nbconvert_exporter": "python",
   "pygments_lexer": "ipython3",
   "version": "3.9.18"
  }
 },
 "nbformat": 4,
 "nbformat_minor": 5
}
