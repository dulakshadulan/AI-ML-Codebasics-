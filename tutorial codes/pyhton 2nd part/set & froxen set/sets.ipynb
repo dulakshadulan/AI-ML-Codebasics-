{
 "cells": [
  {
   "cell_type": "code",
   "execution_count": 5,
   "id": "2c072fb5",
   "metadata": {},
   "outputs": [],
   "source": [
    "basket = {\"orange\", \"apple\", \"mango\" , \"apple\", \"mango\",\"orange\"}"
   ]
  },
  {
   "cell_type": "code",
   "execution_count": 6,
   "id": "a31801d0",
   "metadata": {},
   "outputs": [],
   "source": [
    "basket.add(\"papaya\")"
   ]
  },
  {
   "cell_type": "code",
   "execution_count": 7,
   "id": "f94547d7",
   "metadata": {},
   "outputs": [
    {
     "data": {
      "text/plain": [
       "{'apple', 'mango', 'orange', 'papaya'}"
      ]
     },
     "execution_count": 7,
     "metadata": {},
     "output_type": "execute_result"
    }
   ],
   "source": [
    "basket"
   ]
  },
  {
   "cell_type": "code",
   "execution_count": 8,
   "id": "fb682f73",
   "metadata": {},
   "outputs": [],
   "source": [
    "numbers = [1,2,3,4,2,3,6,7,5]\n",
    "\n",
    "unique_num = set(numbers)"
   ]
  },
  {
   "cell_type": "code",
   "execution_count": 9,
   "id": "6aca0eb8",
   "metadata": {},
   "outputs": [
    {
     "data": {
      "text/plain": [
       "{1, 2, 3, 4, 5, 6, 7}"
      ]
     },
     "execution_count": 9,
     "metadata": {},
     "output_type": "execute_result"
    }
   ],
   "source": [
    "unique_num"
   ]
  },
  {
   "cell_type": "code",
   "execution_count": null,
   "id": "ad147c17",
   "metadata": {},
   "outputs": [],
   "source": [
    "fs=frozenset(numbers) # no add"
   ]
  },
  {
   "cell_type": "code",
   "execution_count": 11,
   "id": "ea213aaf",
   "metadata": {},
   "outputs": [
    {
     "data": {
      "text/plain": [
       "frozenset({1, 2, 3, 4, 5, 6, 7})"
      ]
     },
     "execution_count": 11,
     "metadata": {},
     "output_type": "execute_result"
    }
   ],
   "source": [
    "fs"
   ]
  },
  {
   "cell_type": "code",
   "execution_count": 13,
   "id": "67c49a1d",
   "metadata": {},
   "outputs": [],
   "source": [
    "x = {\"a\",\"b\",\"c\"}"
   ]
  },
  {
   "cell_type": "code",
   "execution_count": 15,
   "id": "8f8e76b6",
   "metadata": {},
   "outputs": [
    {
     "data": {
      "text/plain": [
       "True"
      ]
     },
     "execution_count": 15,
     "metadata": {},
     "output_type": "execute_result"
    }
   ],
   "source": [
    "\"a\" in x"
   ]
  },
  {
   "cell_type": "code",
   "execution_count": 17,
   "id": "a53007d9",
   "metadata": {},
   "outputs": [
    {
     "name": "stdout",
     "output_type": "stream",
     "text": [
      "a\n",
      "b\n",
      "c\n"
     ]
    }
   ],
   "source": [
    "for i in x :\n",
    "    print (i)"
   ]
  },
  {
   "cell_type": "code",
   "execution_count": 18,
   "id": "b623505b",
   "metadata": {},
   "outputs": [],
   "source": [
    "y = {\"a\",\"h\",\"g\"}\n"
   ]
  },
  {
   "cell_type": "code",
   "execution_count": null,
   "id": "6cee6745",
   "metadata": {},
   "outputs": [
    {
     "data": {
      "text/plain": [
       "{'a', 'b', 'c', 'g', 'h'}"
      ]
     },
     "execution_count": 19,
     "metadata": {},
     "output_type": "execute_result"
    }
   ],
   "source": [
    "x|y #union"
   ]
  },
  {
   "cell_type": "code",
   "execution_count": null,
   "id": "c1db0b79",
   "metadata": {},
   "outputs": [
    {
     "data": {
      "text/plain": [
       "{'a'}"
      ]
     },
     "execution_count": 20,
     "metadata": {},
     "output_type": "execute_result"
    }
   ],
   "source": [
    "x&y #intersection"
   ]
  },
  {
   "cell_type": "code",
   "execution_count": 21,
   "id": "8cbc39be",
   "metadata": {},
   "outputs": [
    {
     "data": {
      "text/plain": [
       "{'b', 'c'}"
      ]
     },
     "execution_count": 21,
     "metadata": {},
     "output_type": "execute_result"
    }
   ],
   "source": [
    "x - y"
   ]
  },
  {
   "cell_type": "code",
   "execution_count": 22,
   "id": "854e2fac",
   "metadata": {},
   "outputs": [
    {
     "data": {
      "text/plain": [
       "{'g', 'h'}"
      ]
     },
     "execution_count": 22,
     "metadata": {},
     "output_type": "execute_result"
    }
   ],
   "source": [
    "y - x"
   ]
  },
  {
   "cell_type": "code",
   "execution_count": 23,
   "id": "374c6369",
   "metadata": {},
   "outputs": [
    {
     "data": {
      "text/plain": [
       "False"
      ]
     },
     "execution_count": 23,
     "metadata": {},
     "output_type": "execute_result"
    }
   ],
   "source": [
    "x < y"
   ]
  },
  {
   "cell_type": "code",
   "execution_count": 24,
   "id": "ccc0dfdb",
   "metadata": {},
   "outputs": [],
   "source": [
    "z = {\"a\"}"
   ]
  },
  {
   "cell_type": "code",
   "execution_count": 25,
   "id": "36d982c1",
   "metadata": {},
   "outputs": [
    {
     "data": {
      "text/plain": [
       "True"
      ]
     },
     "execution_count": 25,
     "metadata": {},
     "output_type": "execute_result"
    }
   ],
   "source": [
    "z<x"
   ]
  },
  {
   "cell_type": "code",
   "execution_count": null,
   "id": "33778094",
   "metadata": {},
   "outputs": [],
   "source": []
  }
 ],
 "metadata": {
  "kernelspec": {
   "display_name": "dul01",
   "language": "python",
   "name": "python3"
  },
  "language_info": {
   "codemirror_mode": {
    "name": "ipython",
    "version": 3
   },
   "file_extension": ".py",
   "mimetype": "text/x-python",
   "name": "python",
   "nbconvert_exporter": "python",
   "pygments_lexer": "ipython3",
   "version": "3.9.18"
  }
 },
 "nbformat": 4,
 "nbformat_minor": 5
}
