{
 "cells": [
  {
   "cell_type": "code",
   "execution_count": 7,
   "id": "1ae51d42",
   "metadata": {},
   "outputs": [],
   "source": [
    "def get_sum(arr):\n",
    "    if len (arr) == 0 :\n",
    "        return 0\n",
    "    return arr[-1] + get_sum(arr[:-1]) \n",
    "    "
   ]
  },
  {
   "cell_type": "code",
   "execution_count": 8,
   "id": "6da8532b",
   "metadata": {},
   "outputs": [
    {
     "data": {
      "text/plain": [
       "6"
      ]
     },
     "execution_count": 8,
     "metadata": {},
     "output_type": "execute_result"
    }
   ],
   "source": [
    "get_sum([1,2,3])"
   ]
  },
  {
   "cell_type": "code",
   "execution_count": 21,
   "id": "d4a98aae",
   "metadata": {},
   "outputs": [],
   "source": [
    "def get_base(n,base):\n",
    "    base_string = '0123456789ABCDEF'\n",
    "\n",
    "    if  n < base:\n",
    "        return base_string[n]\n",
    "\n",
    "    return get_base(n//base,base) + base_string[n%base]"
   ]
  },
  {
   "cell_type": "code",
   "execution_count": 22,
   "id": "2151fe0c",
   "metadata": {},
   "outputs": [
    {
     "data": {
      "text/plain": [
       "'10111'"
      ]
     },
     "execution_count": 22,
     "metadata": {},
     "output_type": "execute_result"
    }
   ],
   "source": [
    "get_base(23,2)"
   ]
  },
  {
   "cell_type": "code",
   "execution_count": 14,
   "id": "5d743608",
   "metadata": {},
   "outputs": [],
   "source": [
    "def nested_list_sum(arr):\n",
    "    total = 0\n",
    "    for i in arr:\n",
    "        if isinstance(i, list):\n",
    "            total += nested_list_sum(i)\n",
    "        elif isinstance(i, (int, float)):\n",
    "            total += i\n",
    "    return total"
   ]
  },
  {
   "cell_type": "code",
   "execution_count": 15,
   "id": "3f871afd",
   "metadata": {},
   "outputs": [
    {
     "name": "stdout",
     "output_type": "stream",
     "text": [
      "15\n"
     ]
    }
   ],
   "source": [
    "print(nested_list_sum([1, [2, 3], [4, [5]]]))  "
   ]
  },
  {
   "cell_type": "code",
   "execution_count": 16,
   "id": "22455b99",
   "metadata": {},
   "outputs": [],
   "source": [
    "def factorial(n):\n",
    "    if n == 1:\n",
    "        return n \n",
    "    return n * factorial(n-1)"
   ]
  },
  {
   "cell_type": "code",
   "execution_count": 20,
   "id": "fd345764",
   "metadata": {},
   "outputs": [
    {
     "data": {
      "text/plain": [
       "6"
      ]
     },
     "execution_count": 20,
     "metadata": {},
     "output_type": "execute_result"
    }
   ],
   "source": [
    "factorial(3)"
   ]
  },
  {
   "cell_type": "code",
   "execution_count": 21,
   "id": "802622d8",
   "metadata": {},
   "outputs": [],
   "source": [
    "def sum_int(n):\n",
    "    if n == 1:\n",
    "        return n \n",
    "    return n + sum_int(n-1)"
   ]
  },
  {
   "cell_type": "code",
   "execution_count": 22,
   "id": "34b36b61",
   "metadata": {},
   "outputs": [
    {
     "data": {
      "text/plain": [
       "45"
      ]
     },
     "execution_count": 22,
     "metadata": {},
     "output_type": "execute_result"
    }
   ],
   "source": [
    "sum_int(9)"
   ]
  },
  {
   "cell_type": "code",
   "execution_count": 23,
   "id": "a484749f",
   "metadata": {},
   "outputs": [],
   "source": [
    "def sum_minus2(n):\n",
    "    if n <=1:\n",
    "        return n \n",
    "    return n + sum_minus2(n-2)"
   ]
  },
  {
   "cell_type": "code",
   "execution_count": 26,
   "id": "ab93fab8",
   "metadata": {},
   "outputs": [
    {
     "data": {
      "text/plain": [
       "30"
      ]
     },
     "execution_count": 26,
     "metadata": {},
     "output_type": "execute_result"
    }
   ],
   "source": [
    "sum_minus2(10)"
   ]
  },
  {
   "cell_type": "code",
   "execution_count": 2,
   "id": "acaabbf3",
   "metadata": {},
   "outputs": [],
   "source": [
    "def harmonic_series(n):\n",
    "    if n == 1:\n",
    "        return n \n",
    "    return 1/n + harmonic_series(n-1)"
   ]
  },
  {
   "cell_type": "code",
   "execution_count": 4,
   "id": "ea7e9303",
   "metadata": {},
   "outputs": [
    {
     "data": {
      "text/plain": [
       "8.178368103610284"
      ]
     },
     "execution_count": 4,
     "metadata": {},
     "output_type": "execute_result"
    }
   ],
   "source": [
    "harmonic_series(2000)"
   ]
  },
  {
   "cell_type": "code",
   "execution_count": 10,
   "id": "551b73dc",
   "metadata": {},
   "outputs": [
    {
     "name": "stdout",
     "output_type": "stream",
     "text": [
      "4\n"
     ]
    }
   ],
   "source": [
    "def Recur_gcd(a, b):\n",
    "    low = min(a, b)\n",
    "    high = max(a, b)\n",
    "\n",
    "    if low == 0:\n",
    "        return high\n",
    "    elif low == 1:\n",
    "        return 1\n",
    "    else:\n",
    "        return Recur_gcd(low, high % low)\n",
    "\n",
    "print(Recur_gcd(12, 28))\n",
    "\n"
   ]
  },
  {
   "cell_type": "code",
   "execution_count": null,
   "id": "56bee54d",
   "metadata": {},
   "outputs": [],
   "source": []
  }
 ],
 "metadata": {
  "kernelspec": {
   "display_name": "dul01",
   "language": "python",
   "name": "python3"
  },
  "language_info": {
   "codemirror_mode": {
    "name": "ipython",
    "version": 3
   },
   "file_extension": ".py",
   "mimetype": "text/x-python",
   "name": "python",
   "nbconvert_exporter": "python",
   "pygments_lexer": "ipython3",
   "version": "3.9.18"
  }
 },
 "nbformat": 4,
 "nbformat_minor": 5
}
