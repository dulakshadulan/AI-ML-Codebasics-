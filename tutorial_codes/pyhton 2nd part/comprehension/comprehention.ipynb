{
 "cells": [
  {
   "cell_type": "markdown",
   "id": "cddd7a6d",
   "metadata": {},
   "source": [
    "### List Comprehension"
   ]
  },
  {
   "cell_type": "code",
   "execution_count": 7,
   "id": "80d208a1",
   "metadata": {},
   "outputs": [],
   "source": [
    "numbers = [x for x in range(11) if x%2 == 0]"
   ]
  },
  {
   "cell_type": "code",
   "execution_count": 8,
   "id": "023c34bd",
   "metadata": {},
   "outputs": [
    {
     "data": {
      "text/plain": [
       "[0, 2, 4, 6, 8, 10]"
      ]
     },
     "execution_count": 8,
     "metadata": {},
     "output_type": "execute_result"
    }
   ],
   "source": [
    "numbers"
   ]
  },
  {
   "cell_type": "code",
   "execution_count": 9,
   "id": "a56bfabd",
   "metadata": {},
   "outputs": [],
   "source": [
    "sqr_numbers = [i*i for i in numbers]"
   ]
  },
  {
   "cell_type": "code",
   "execution_count": 10,
   "id": "2d543487",
   "metadata": {},
   "outputs": [
    {
     "data": {
      "text/plain": [
       "[0, 4, 16, 36, 64, 100]"
      ]
     },
     "execution_count": 10,
     "metadata": {},
     "output_type": "execute_result"
    }
   ],
   "source": [
    "sqr_numbers"
   ]
  },
  {
   "cell_type": "markdown",
   "id": "42ca34cf",
   "metadata": {},
   "source": [
    "### Set Comprehension"
   ]
  },
  {
   "cell_type": "code",
   "execution_count": 17,
   "id": "de8c80da",
   "metadata": {},
   "outputs": [],
   "source": [
    "s = set([i for i in range(1,11)])"
   ]
  },
  {
   "cell_type": "code",
   "execution_count": 18,
   "id": "82b19878",
   "metadata": {},
   "outputs": [
    {
     "data": {
      "text/plain": [
       "{1, 2, 3, 4, 5, 6, 7, 8, 9, 10}"
      ]
     },
     "execution_count": 18,
     "metadata": {},
     "output_type": "execute_result"
    }
   ],
   "source": [
    "s"
   ]
  },
  {
   "cell_type": "code",
   "execution_count": 19,
   "id": "26aa595d",
   "metadata": {},
   "outputs": [],
   "source": [
    "even = {i for i in s if i%2==0}"
   ]
  },
  {
   "cell_type": "code",
   "execution_count": 20,
   "id": "70a7b162",
   "metadata": {},
   "outputs": [
    {
     "data": {
      "text/plain": [
       "{2, 4, 6, 8, 10}"
      ]
     },
     "execution_count": 20,
     "metadata": {},
     "output_type": "execute_result"
    }
   ],
   "source": [
    "even"
   ]
  },
  {
   "cell_type": "code",
   "execution_count": 27,
   "id": "360d8f74",
   "metadata": {},
   "outputs": [],
   "source": [
    "cities = [\"mumbai\", \"berlin\",\"tokyo\",\"paris\"]\n",
    "countries = [\"india\",\"germany\",\"japan\",\"france\"]"
   ]
  },
  {
   "cell_type": "code",
   "execution_count": 28,
   "id": "43e668d3",
   "metadata": {},
   "outputs": [],
   "source": [
    "d = {city:country for city,country in zip(cities,countries)}"
   ]
  },
  {
   "cell_type": "code",
   "execution_count": 29,
   "id": "c0f7c0ff",
   "metadata": {},
   "outputs": [
    {
     "data": {
      "text/plain": [
       "{'mumbai': 'india', 'berlin': 'germany', 'tokyo': 'japan', 'paris': 'france'}"
      ]
     },
     "execution_count": 29,
     "metadata": {},
     "output_type": "execute_result"
    }
   ],
   "source": [
    "d"
   ]
  },
  {
   "cell_type": "code",
   "execution_count": null,
   "id": "cbf4da77",
   "metadata": {},
   "outputs": [],
   "source": []
  }
 ],
 "metadata": {
  "kernelspec": {
   "display_name": "dul01",
   "language": "python",
   "name": "python3"
  },
  "language_info": {
   "codemirror_mode": {
    "name": "ipython",
    "version": 3
   },
   "file_extension": ".py",
   "mimetype": "text/x-python",
   "name": "python",
   "nbconvert_exporter": "python",
   "pygments_lexer": "ipython3",
   "version": "3.9.18"
  }
 },
 "nbformat": 4,
 "nbformat_minor": 5
}
