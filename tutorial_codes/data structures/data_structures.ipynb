{
 "cells": [
  {
   "cell_type": "markdown",
   "id": "8eb09ba2",
   "metadata": {},
   "source": [
    "Arrays"
   ]
  },
  {
   "cell_type": "code",
   "execution_count": 4,
   "id": "7ac45211",
   "metadata": {},
   "outputs": [],
   "source": [
    "expense = [2200, 2350, 2600, 2130, 2190]\n"
   ]
  },
  {
   "cell_type": "code",
   "execution_count": 5,
   "id": "a5e73793",
   "metadata": {},
   "outputs": [
    {
     "data": {
      "text/plain": [
       "150"
      ]
     },
     "execution_count": 5,
     "metadata": {},
     "output_type": "execute_result"
    }
   ],
   "source": [
    "expense[1] - expense[0]\n"
   ]
  },
  {
   "cell_type": "code",
   "execution_count": 6,
   "id": "73ad35ea",
   "metadata": {},
   "outputs": [
    {
     "data": {
      "text/plain": [
       "7150"
      ]
     },
     "execution_count": 6,
     "metadata": {},
     "output_type": "execute_result"
    }
   ],
   "source": [
    "sum(expense[:3])"
   ]
  },
  {
   "cell_type": "code",
   "execution_count": 7,
   "id": "8e5282c4",
   "metadata": {},
   "outputs": [
    {
     "data": {
      "text/plain": [
       "True"
      ]
     },
     "execution_count": 7,
     "metadata": {},
     "output_type": "execute_result"
    }
   ],
   "source": [
    "2600 in expense"
   ]
  },
  {
   "cell_type": "code",
   "execution_count": 8,
   "id": "0bf9d7af",
   "metadata": {},
   "outputs": [
    {
     "data": {
      "text/plain": [
       "2"
      ]
     },
     "execution_count": 8,
     "metadata": {},
     "output_type": "execute_result"
    }
   ],
   "source": [
    "expense.index(2600)"
   ]
  },
  {
   "cell_type": "code",
   "execution_count": 9,
   "id": "88cbcd08",
   "metadata": {},
   "outputs": [],
   "source": [
    "expense.insert(5,1980)"
   ]
  },
  {
   "cell_type": "code",
   "execution_count": 10,
   "id": "15dcb392",
   "metadata": {},
   "outputs": [],
   "source": [
    "expense[3] = 1930"
   ]
  },
  {
   "cell_type": "code",
   "execution_count": 11,
   "id": "3d8ec77e",
   "metadata": {},
   "outputs": [
    {
     "data": {
      "text/plain": [
       "[2200, 2350, 2600, 1930, 2190, 1980]"
      ]
     },
     "execution_count": 11,
     "metadata": {},
     "output_type": "execute_result"
    }
   ],
   "source": [
    "expense\n"
   ]
  },
  {
   "cell_type": "code",
   "execution_count": 18,
   "id": "a3199448",
   "metadata": {},
   "outputs": [],
   "source": [
    "heroes = ['spider man','thor','hulk','iron man','captain america']"
   ]
  },
  {
   "cell_type": "code",
   "execution_count": 19,
   "id": "62a84505",
   "metadata": {},
   "outputs": [
    {
     "data": {
      "text/plain": [
       "5"
      ]
     },
     "execution_count": 19,
     "metadata": {},
     "output_type": "execute_result"
    }
   ],
   "source": [
    "len(heroes)"
   ]
  },
  {
   "cell_type": "code",
   "execution_count": 20,
   "id": "4dca12cd",
   "metadata": {},
   "outputs": [],
   "source": [
    "heroes.append('black panther')"
   ]
  },
  {
   "cell_type": "code",
   "execution_count": 21,
   "id": "d0af1a3f",
   "metadata": {},
   "outputs": [],
   "source": [
    "heroes.remove('black panther')"
   ]
  },
  {
   "cell_type": "code",
   "execution_count": 22,
   "id": "37d6ce37",
   "metadata": {},
   "outputs": [
    {
     "data": {
      "text/plain": [
       "['spider man', 'thor', 'hulk', 'iron man', 'captain america']"
      ]
     },
     "execution_count": 22,
     "metadata": {},
     "output_type": "execute_result"
    }
   ],
   "source": [
    "heroes"
   ]
  },
  {
   "cell_type": "code",
   "execution_count": 23,
   "id": "986d198b",
   "metadata": {},
   "outputs": [],
   "source": [
    "heroes.insert(3,'black panther')"
   ]
  },
  {
   "cell_type": "code",
   "execution_count": 24,
   "id": "5770d894",
   "metadata": {},
   "outputs": [
    {
     "data": {
      "text/plain": [
       "['spider man', 'thor', 'hulk', 'black panther', 'iron man', 'captain america']"
      ]
     },
     "execution_count": 24,
     "metadata": {},
     "output_type": "execute_result"
    }
   ],
   "source": [
    "heroes"
   ]
  },
  {
   "cell_type": "code",
   "execution_count": 25,
   "id": "613090bd",
   "metadata": {},
   "outputs": [],
   "source": [
    "heroes[1:3] = ['doctor strange']"
   ]
  },
  {
   "cell_type": "code",
   "execution_count": 26,
   "id": "f31ab09e",
   "metadata": {},
   "outputs": [
    {
     "data": {
      "text/plain": [
       "['spider man',\n",
       " 'doctor strange',\n",
       " 'black panther',\n",
       " 'iron man',\n",
       " 'captain america']"
      ]
     },
     "execution_count": 26,
     "metadata": {},
     "output_type": "execute_result"
    }
   ],
   "source": [
    "heroes"
   ]
  },
  {
   "cell_type": "code",
   "execution_count": 27,
   "id": "89aecaf7",
   "metadata": {},
   "outputs": [
    {
     "data": {
      "text/plain": [
       "list"
      ]
     },
     "execution_count": 27,
     "metadata": {},
     "output_type": "execute_result"
    }
   ],
   "source": [
    "type(heroes)"
   ]
  },
  {
   "cell_type": "code",
   "execution_count": 28,
   "id": "1ff76b8a",
   "metadata": {},
   "outputs": [
    {
     "data": {
      "text/plain": [
       "5"
      ]
     },
     "execution_count": 28,
     "metadata": {},
     "output_type": "execute_result"
    }
   ],
   "source": [
    "len(heroes)"
   ]
  },
  {
   "cell_type": "code",
   "execution_count": 29,
   "id": "8dc2f64a",
   "metadata": {},
   "outputs": [
    {
     "data": {
      "text/plain": [
       "['__add__',\n",
       " '__class__',\n",
       " '__class_getitem__',\n",
       " '__contains__',\n",
       " '__delattr__',\n",
       " '__delitem__',\n",
       " '__dir__',\n",
       " '__doc__',\n",
       " '__eq__',\n",
       " '__format__',\n",
       " '__ge__',\n",
       " '__getattribute__',\n",
       " '__getitem__',\n",
       " '__gt__',\n",
       " '__hash__',\n",
       " '__iadd__',\n",
       " '__imul__',\n",
       " '__init__',\n",
       " '__init_subclass__',\n",
       " '__iter__',\n",
       " '__le__',\n",
       " '__len__',\n",
       " '__lt__',\n",
       " '__mul__',\n",
       " '__ne__',\n",
       " '__new__',\n",
       " '__reduce__',\n",
       " '__reduce_ex__',\n",
       " '__repr__',\n",
       " '__reversed__',\n",
       " '__rmul__',\n",
       " '__setattr__',\n",
       " '__setitem__',\n",
       " '__sizeof__',\n",
       " '__str__',\n",
       " '__subclasshook__',\n",
       " 'append',\n",
       " 'clear',\n",
       " 'copy',\n",
       " 'count',\n",
       " 'extend',\n",
       " 'index',\n",
       " 'insert',\n",
       " 'pop',\n",
       " 'remove',\n",
       " 'reverse',\n",
       " 'sort']"
      ]
     },
     "execution_count": 29,
     "metadata": {},
     "output_type": "execute_result"
    }
   ],
   "source": [
    "dir(heroes)"
   ]
  },
  {
   "cell_type": "code",
   "execution_count": 30,
   "id": "667c1408",
   "metadata": {},
   "outputs": [],
   "source": [
    "heroes.sort()"
   ]
  },
  {
   "cell_type": "code",
   "execution_count": 31,
   "id": "1c778c77",
   "metadata": {},
   "outputs": [
    {
     "data": {
      "text/plain": [
       "['black panther',\n",
       " 'captain america',\n",
       " 'doctor strange',\n",
       " 'iron man',\n",
       " 'spider man']"
      ]
     },
     "execution_count": 31,
     "metadata": {},
     "output_type": "execute_result"
    }
   ],
   "source": [
    "heroes"
   ]
  },
  {
   "cell_type": "code",
   "execution_count": 33,
   "id": "9320eec1",
   "metadata": {},
   "outputs": [],
   "source": [
    "def odd_numbers():\n",
    "    odds = []\n",
    "    n = input(\"Enter a number: \")\n",
    "    try:\n",
    "        n =int(n)\n",
    "    except ValueError:\n",
    "        print(\"Please enter a valid number.\")\n",
    "        return\n",
    "    for i in range(1 , n+1 ,2):\n",
    "        odds.append(i)\n",
    "    return odds"
   ]
  },
  {
   "cell_type": "code",
   "execution_count": 34,
   "id": "b7638264",
   "metadata": {},
   "outputs": [
    {
     "data": {
      "text/plain": [
       "[1,\n",
       " 3,\n",
       " 5,\n",
       " 7,\n",
       " 9,\n",
       " 11,\n",
       " 13,\n",
       " 15,\n",
       " 17,\n",
       " 19,\n",
       " 21,\n",
       " 23,\n",
       " 25,\n",
       " 27,\n",
       " 29,\n",
       " 31,\n",
       " 33,\n",
       " 35,\n",
       " 37,\n",
       " 39,\n",
       " 41,\n",
       " 43,\n",
       " 45,\n",
       " 47,\n",
       " 49,\n",
       " 51,\n",
       " 53,\n",
       " 55,\n",
       " 57,\n",
       " 59,\n",
       " 61,\n",
       " 63,\n",
       " 65,\n",
       " 67]"
      ]
     },
     "execution_count": 34,
     "metadata": {},
     "output_type": "execute_result"
    }
   ],
   "source": [
    "print(odd_numbers())"
   ]
  },
  {
   "cell_type": "markdown",
   "id": "5cf99b40",
   "metadata": {},
   "source": [
    "linked list"
   ]
  },
  {
   "cell_type": "code",
   "execution_count": null,
   "id": "caddada0",
   "metadata": {},
   "outputs": [
    {
     "name": "stdout",
     "output_type": "stream",
     "text": [
      "15-->10-->5-->\n"
     ]
    }
   ],
   "source": [
    "class Node:\n",
    "    def __init__(self , data=None, next= None):\n",
    "        self.data = data\n",
    "        self.next = next\n",
    "\n",
    "class LinkedList:\n",
    "    def __init__(self):\n",
    "        self.head = None\n",
    "\n",
    "    def insert_at_beginning(self,data):\n",
    "        node = Node(data, self.head)\n",
    "        self.head = node\n",
    "\n",
    "    def insert_at_the_end(self,data):\n",
    "        if self.head is None:\n",
    "            self.head = Node(data,None)\n",
    "            return\n",
    "        itr = self.head\n",
    "        while itr.next:\n",
    "            itr = itr.next\n",
    "        \n",
    "        itr.next = Node(data,None)\n",
    "\n",
    "    \n",
    "    def print(self):\n",
    "        if self.head is None:\n",
    "            print(\"List is empty\")\n",
    "            return\n",
    "        \n",
    "        itr = self.head\n",
    "        llstr = \"\"\n",
    "        while itr:\n",
    "            llstr += str(itr.data) + '-->'\n",
    "            itr = itr.next\n",
    "\n",
    "        print(llstr)\n",
    "\n",
    "if __name__ == '__main__':\n",
    "    ll = LinkedList()\n",
    "    ll.insert_at_beginning(5)\n",
    "    ll.insert_at_beginning(10)\n",
    "    ll.insert_at_the_end(15)\n",
    "    ll.print()"
   ]
  },
  {
   "cell_type": "code",
   "execution_count": 6,
   "id": "c15f3e6e",
   "metadata": {},
   "outputs": [
    {
     "data": {
      "text/plain": [
       "0"
      ]
     },
     "execution_count": 6,
     "metadata": {},
     "output_type": "execute_result"
    }
   ],
   "source": [
    "1//2"
   ]
  },
  {
   "cell_type": "code",
   "execution_count": 10,
   "id": "f0b27f86",
   "metadata": {},
   "outputs": [],
   "source": [
    "arr = [1,2]\n"
   ]
  },
  {
   "cell_type": "code",
   "execution_count": 11,
   "id": "d8d3db83",
   "metadata": {},
   "outputs": [
    {
     "ename": "IndexError",
     "evalue": "list assignment index out of range",
     "output_type": "error",
     "traceback": [
      "\u001b[1;31m---------------------------------------------------------------------------\u001b[0m",
      "\u001b[1;31mIndexError\u001b[0m                                Traceback (most recent call last)",
      "Cell \u001b[1;32mIn[11], line 1\u001b[0m\n\u001b[1;32m----> 1\u001b[0m \u001b[43marr\u001b[49m\u001b[43m[\u001b[49m\u001b[38;5;241;43m2\u001b[39;49m\u001b[43m]\u001b[49m \u001b[38;5;241m=\u001b[39m \u001b[38;5;241m3\u001b[39m\n",
      "\u001b[1;31mIndexError\u001b[0m: list assignment index out of range"
     ]
    }
   ],
   "source": [
    "arr[2] = 3"
   ]
  },
  {
   "cell_type": "code",
   "execution_count": null,
   "id": "b63ccd33",
   "metadata": {},
   "outputs": [],
   "source": []
  }
 ],
 "metadata": {
  "kernelspec": {
   "display_name": "dul01",
   "language": "python",
   "name": "python3"
  },
  "language_info": {
   "codemirror_mode": {
    "name": "ipython",
    "version": 3
   },
   "file_extension": ".py",
   "mimetype": "text/x-python",
   "name": "python",
   "nbconvert_exporter": "python",
   "pygments_lexer": "ipython3",
   "version": "3.9.18"
  }
 },
 "nbformat": 4,
 "nbformat_minor": 5
}
