{
 "cells": [
  {
   "cell_type": "code",
   "execution_count": 21,
   "id": "c24fa520",
   "metadata": {},
   "outputs": [
    {
     "name": "stdout",
     "output_type": "stream",
     "text": [
      "pika\n"
     ]
    }
   ],
   "source": [
    "print('pika')"
   ]
  },
  {
   "cell_type": "code",
   "execution_count": 54,
   "id": "8412c845",
   "metadata": {},
   "outputs": [],
   "source": [
    "class HashTable:\n",
    "    def __init__(self):\n",
    "        self.max = 10\n",
    "        self.arr = [None for i in range(self.max)]\n",
    "\n",
    "    def get_hash(self,key):\n",
    "        h = 0\n",
    "        for char in key:\n",
    "            h+= ord(char)\n",
    "        return h % self.max\n",
    "    \n",
    "    def input_csv(self,csv):\n",
    "        with open(csv,'r') as f:\n",
    "            next(f)\n",
    "            for line in f:\n",
    "                date , temp = line.split(',')\n",
    "                self[date] = float(temp)\n",
    "    \n",
    "    def __setitem__(self,key,value):\n",
    "        filled = False\n",
    "        h = self.get_hash(key)\n",
    "\n",
    "        for i in range(self.max): \n",
    "            if self.arr[h] is None:\n",
    "                self.arr[h] = [key, value]\n",
    "                return\n",
    "            if self.arr[h][0] == key:\n",
    "                self.arr[h][1] = value\n",
    "                return\n",
    "            h = (h + 1) % self.max\n",
    "        raise Exception(\"HashTable is full\")\n",
    "\n",
    "    def __getitem__(self,key):\n",
    "        h = self.get_hash(key)\n",
    "        for i in range (self.max):\n",
    "            if self.arr[i] is not None and self.arr[h][0] == key:\n",
    "                return self.arr[h][1]\n",
    "            h = (h + 1) % self.max\n",
    "        raise KeyError(f\"Key {key} not found in HashTable\")\n",
    "    \n",
    "    \n",
    "    def __delitem__(self,key):\n",
    "        h = self.get_hash(key)\n",
    "        for i in range (self.max):\n",
    "            if self.arr[h][0] == key:\n",
    "                self.arr[h] = None\n",
    "\n",
    "                return\n",
    "            h = (h + 1) % self.max\n",
    "        raise KeyError(f\"Key {key} not found in HashTable\")\n",
    "    \n",
    "    def get_max(self):\n",
    "        m = 0\n",
    "        for i in range(self.max):\n",
    "            if self.arr[i] is not None and self.arr[i][1] > m:\n",
    "                m = self.arr[i][1]  \n",
    "        return m  \n",
    "    \n",
    "\n",
    "\n",
    "        \n",
    "            \n"
   ]
  },
  {
   "cell_type": "code",
   "execution_count": 44,
   "id": "3a91ab13",
   "metadata": {},
   "outputs": [],
   "source": [
    "t = HashTable()\n",
    "t.input_csv('nyc_weather.csv')"
   ]
  },
  {
   "cell_type": "code",
   "execution_count": 45,
   "id": "aa10e055",
   "metadata": {},
   "outputs": [
    {
     "data": {
      "text/plain": [
       "[['Jan 9', 35.0],\n",
       " ['Jan 10', 30.0],\n",
       " ['Jan 1', 27.0],\n",
       " ['Jan 2', 31.0],\n",
       " ['Jan 3', 23.0],\n",
       " ['Jan 4', 34.0],\n",
       " ['Jan 5', 37.0],\n",
       " ['Jan 6', 38.0],\n",
       " ['Jan 7', 29.0],\n",
       " ['Jan 8', 30.0]]"
      ]
     },
     "execution_count": 45,
     "metadata": {},
     "output_type": "execute_result"
    }
   ],
   "source": [
    "t.arr"
   ]
  },
  {
   "cell_type": "code",
   "execution_count": 46,
   "id": "f6ae5ee3",
   "metadata": {},
   "outputs": [],
   "source": [
    "del t['Jan 8']"
   ]
  },
  {
   "cell_type": "code",
   "execution_count": 47,
   "id": "81acb5fe",
   "metadata": {},
   "outputs": [],
   "source": [
    "t['Jan 8'] = 100"
   ]
  },
  {
   "cell_type": "code",
   "execution_count": 48,
   "id": "38682d48",
   "metadata": {},
   "outputs": [
    {
     "data": {
      "text/plain": [
       "[['Jan 9', 35.0],\n",
       " ['Jan 10', 30.0],\n",
       " ['Jan 1', 27.0],\n",
       " ['Jan 2', 31.0],\n",
       " ['Jan 3', 23.0],\n",
       " ['Jan 4', 34.0],\n",
       " ['Jan 5', 37.0],\n",
       " ['Jan 6', 38.0],\n",
       " ['Jan 7', 29.0],\n",
       " ['Jan 8', 100]]"
      ]
     },
     "execution_count": 48,
     "metadata": {},
     "output_type": "execute_result"
    }
   ],
   "source": [
    "t.arr"
   ]
  },
  {
   "cell_type": "code",
   "execution_count": 49,
   "id": "13d2c385",
   "metadata": {},
   "outputs": [],
   "source": [
    "del t['Jan 7']"
   ]
  },
  {
   "cell_type": "code",
   "execution_count": 51,
   "id": "fbad915d",
   "metadata": {},
   "outputs": [],
   "source": [
    "t['Jan 17'] = 90"
   ]
  },
  {
   "cell_type": "code",
   "execution_count": 52,
   "id": "9f5038b8",
   "metadata": {},
   "outputs": [
    {
     "data": {
      "text/plain": [
       "[['Jan 9', 35.0],\n",
       " ['Jan 10', 30.0],\n",
       " ['Jan 1', 27.0],\n",
       " ['Jan 2', 31.0],\n",
       " ['Jan 3', 23.0],\n",
       " ['Jan 4', 34.0],\n",
       " ['Jan 5', 37.0],\n",
       " ['Jan 6', 38.0],\n",
       " ['Jan 17', 90],\n",
       " ['Jan 8', 100]]"
      ]
     },
     "execution_count": 52,
     "metadata": {},
     "output_type": "execute_result"
    }
   ],
   "source": [
    "t.arr"
   ]
  },
  {
   "cell_type": "code",
   "execution_count": 41,
   "id": "dff31d26",
   "metadata": {},
   "outputs": [
    {
     "data": {
      "text/plain": [
       "38.0"
      ]
     },
     "execution_count": 41,
     "metadata": {},
     "output_type": "execute_result"
    }
   ],
   "source": [
    "t.get_max()"
   ]
  },
  {
   "cell_type": "code",
   "execution_count": null,
   "id": "1bbe1c7d",
   "metadata": {},
   "outputs": [],
   "source": []
  }
 ],
 "metadata": {
  "kernelspec": {
   "display_name": "dul01",
   "language": "python",
   "name": "python3"
  },
  "language_info": {
   "codemirror_mode": {
    "name": "ipython",
    "version": 3
   },
   "file_extension": ".py",
   "mimetype": "text/x-python",
   "name": "python",
   "nbconvert_exporter": "python",
   "pygments_lexer": "ipython3",
   "version": "3.9.18"
  }
 },
 "nbformat": 4,
 "nbformat_minor": 5
}
