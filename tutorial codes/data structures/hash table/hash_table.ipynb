{
 "cells": [
  {
   "cell_type": "code",
   "execution_count": 5,
   "id": "bd745c4a",
   "metadata": {},
   "outputs": [],
   "source": [
    "stock_prices = []\n",
    "with open(\"stock_prices.csv\", \"r\") as f:\n",
    "    for line in f:\n",
    "        tokens = line.split(',')\n",
    "        day = tokens[0]\n",
    "        price = float(tokens[1])\n",
    "        stock_prices.append([day,price])\n"
   ]
  },
  {
   "cell_type": "code",
   "execution_count": 6,
   "id": "5a1e5fc6",
   "metadata": {},
   "outputs": [
    {
     "data": {
      "text/plain": [
       "[['march 6', 310.0],\n",
       " ['march 7', 340.0],\n",
       " ['march 8', 380.0],\n",
       " ['march 9', 302.0],\n",
       " ['march 10', 297.0],\n",
       " ['march 11', 323.0]]"
      ]
     },
     "execution_count": 6,
     "metadata": {},
     "output_type": "execute_result"
    }
   ],
   "source": [
    "stock_prices "
   ]
  },
  {
   "cell_type": "code",
   "execution_count": 7,
   "id": "71c3627e",
   "metadata": {},
   "outputs": [
    {
     "name": "stdout",
     "output_type": "stream",
     "text": [
      "302.0\n"
     ]
    }
   ],
   "source": [
    "for element in stock_prices:\n",
    "    if element [0] == 'march 9':\n",
    "        print(element[1])\n",
    "        break\n",
    "    \n"
   ]
  },
  {
   "cell_type": "code",
   "execution_count": 8,
   "id": "d34b4b12",
   "metadata": {},
   "outputs": [],
   "source": [
    "stock_prices_dict = {}\n",
    "with open(\"stock_prices.csv\", \"r\") as f:\n",
    "    for line in f:\n",
    "        tokens = line.split(',')\n",
    "        day = tokens[0]\n",
    "        price = float(tokens[1])\n",
    "        stock_prices_dict[day] = price"
   ]
  },
  {
   "cell_type": "code",
   "execution_count": 9,
   "id": "d186db5c",
   "metadata": {},
   "outputs": [
    {
     "data": {
      "text/plain": [
       "{'march 6': 310.0,\n",
       " 'march 7': 340.0,\n",
       " 'march 8': 380.0,\n",
       " 'march 9': 302.0,\n",
       " 'march 10': 297.0,\n",
       " 'march 11': 323.0}"
      ]
     },
     "execution_count": 9,
     "metadata": {},
     "output_type": "execute_result"
    }
   ],
   "source": [
    "stock_prices_dict"
   ]
  },
  {
   "cell_type": "code",
   "execution_count": 10,
   "id": "e0585c80",
   "metadata": {},
   "outputs": [
    {
     "data": {
      "text/plain": [
       "302.0"
      ]
     },
     "execution_count": 10,
     "metadata": {},
     "output_type": "execute_result"
    }
   ],
   "source": [
    "stock_prices_dict['march 9']"
   ]
  },
  {
   "cell_type": "code",
   "execution_count": 11,
   "id": "d20e93b3",
   "metadata": {},
   "outputs": [],
   "source": [
    "def get_hash(key):\n",
    "    h = 0\n",
    "    for char in key:\n",
    "        h+= ord(char)\n",
    "    return h % 100\n",
    "\n"
   ]
  },
  {
   "cell_type": "code",
   "execution_count": 12,
   "id": "aa00011c",
   "metadata": {},
   "outputs": [
    {
     "data": {
      "text/plain": [
       "109"
      ]
     },
     "execution_count": 12,
     "metadata": {},
     "output_type": "execute_result"
    }
   ],
   "source": [
    "ord('m')"
   ]
  },
  {
   "cell_type": "code",
   "execution_count": 13,
   "id": "82575884",
   "metadata": {},
   "outputs": [
    {
     "name": "stdout",
     "output_type": "stream",
     "text": [
      "m 109\n",
      "a 97\n",
      "r 114\n",
      "c 99\n",
      "h 104\n",
      "  32\n",
      "9 57\n"
     ]
    }
   ],
   "source": [
    "for char in 'march 9':\n",
    "    print(char, ord(char))"
   ]
  },
  {
   "cell_type": "code",
   "execution_count": 14,
   "id": "d3b9532f",
   "metadata": {},
   "outputs": [
    {
     "data": {
      "text/plain": [
       "9"
      ]
     },
     "execution_count": 14,
     "metadata": {},
     "output_type": "execute_result"
    }
   ],
   "source": [
    "get_hash('march 6')"
   ]
  },
  {
   "cell_type": "code",
   "execution_count": 9,
   "id": "e784e9d2",
   "metadata": {},
   "outputs": [],
   "source": [
    "class HashTable:\n",
    "    def __init__(self):\n",
    "        self.Max = 10\n",
    "        self.arr = [[] for i in range (self.Max)]\n",
    "    \n",
    "    def get_hash(self,key):\n",
    "        h = 0\n",
    "        for char in key:\n",
    "            h+= ord(char)\n",
    "        return h % self.Max\n",
    "    \n",
    "    def input_csv(self,csv):\n",
    "        with open(csv,'r') as f:\n",
    "            next(f)\n",
    "            for line in f:\n",
    "                date , temp = line.split(',')\n",
    "                self[date] = float(temp)\n",
    "        \n",
    "    def __setitem__(self,key,val):\n",
    "        h = self.get_hash(key)\n",
    "        found = False\n",
    "        for idx, element in enumerate(self.arr[h]):\n",
    "            if len(element) == 2 and element[0] == key:\n",
    "                self.arr[h][idx] = (key,val)\n",
    "                found = True\n",
    "                break\n",
    "        if not found:\n",
    "            self.arr[h].append((key,val))\n",
    "            \n",
    "\n",
    "\n",
    "\n",
    "        \n",
    "        \n",
    "\n",
    "    def __getitem__(self,key):\n",
    "        h = self.get_hash(key)\n",
    "        for element in self.arr[h]:\n",
    "            if element[0] ==  key:\n",
    "                return element[1]\n",
    "            \n",
    "    def __delitem__(self,key):\n",
    "        h = self.get_hash(key)\n",
    "        for idx,element in enumerate(self.arr[h]):\n",
    "            if element[0] ==  key:\n",
    "                del self.arr[h][idx]\n",
    "    \n",
    "    def get_max(self):\n",
    "        max = 0\n",
    "        for i in range (self.Max):\n",
    "            for element in self.arr[i]:\n",
    "                if element[1] > max:\n",
    "                    max = element[1]\n",
    "        return max\n",
    "    "
   ]
  },
  {
   "cell_type": "code",
   "execution_count": 10,
   "id": "1fdfbf6d",
   "metadata": {},
   "outputs": [
    {
     "data": {
      "text/plain": [
       "[[('Jan 9', 35.0), ('Jan 10', 30.0)],\n",
       " [],\n",
       " [('Jan 1', 27.0)],\n",
       " [('Jan 2', 31.0)],\n",
       " [('Jan 3', 23.0)],\n",
       " [('Jan 4', 34.0)],\n",
       " [('Jan 5', 37.0)],\n",
       " [('Jan 6', 38.0)],\n",
       " [('Jan 7', 29.0)],\n",
       " [('Jan 8', 30.0)]]"
      ]
     },
     "execution_count": 10,
     "metadata": {},
     "output_type": "execute_result"
    }
   ],
   "source": [
    "t = HashTable()\n",
    "t.input_csv('nyc_weather.csv')\n",
    "t.arr\n"
   ]
  },
  {
   "cell_type": "code",
   "execution_count": 12,
   "id": "1448c755",
   "metadata": {},
   "outputs": [
    {
     "data": {
      "text/plain": [
       "29.0"
      ]
     },
     "execution_count": 12,
     "metadata": {},
     "output_type": "execute_result"
    }
   ],
   "source": [
    "t['Jan 7']"
   ]
  },
  {
   "cell_type": "code",
   "execution_count": 13,
   "id": "af34e495",
   "metadata": {},
   "outputs": [],
   "source": [
    "del t['Jan 7']"
   ]
  },
  {
   "cell_type": "code",
   "execution_count": 14,
   "id": "070c1c91",
   "metadata": {},
   "outputs": [
    {
     "data": {
      "text/plain": [
       "[[('Jan 9', 35.0), ('Jan 10', 30.0)],\n",
       " [],\n",
       " [('Jan 1', 27.0)],\n",
       " [('Jan 2', 31.0)],\n",
       " [('Jan 3', 23.0)],\n",
       " [('Jan 4', 34.0)],\n",
       " [('Jan 5', 37.0)],\n",
       " [('Jan 6', 38.0)],\n",
       " [],\n",
       " [('Jan 8', 30.0)]]"
      ]
     },
     "execution_count": 14,
     "metadata": {},
     "output_type": "execute_result"
    }
   ],
   "source": [
    "t.arr"
   ]
  },
  {
   "cell_type": "code",
   "execution_count": 15,
   "id": "b5fbafc0",
   "metadata": {},
   "outputs": [],
   "source": [
    "t['Jan 7'] = 24"
   ]
  },
  {
   "cell_type": "code",
   "execution_count": 18,
   "id": "88af3325",
   "metadata": {},
   "outputs": [
    {
     "data": {
      "text/plain": [
       "[[('march 7', 200), ('march 18', 600)],\n",
       " [('march 8', 300), ('march 19', 700)],\n",
       " [('march 9', 500)],\n",
       " [],\n",
       " [],\n",
       " [],\n",
       " [],\n",
       " [],\n",
       " [],\n",
       " [('march 6', 100), ('march 17', 400)]]"
      ]
     },
     "execution_count": 18,
     "metadata": {},
     "output_type": "execute_result"
    }
   ],
   "source": [
    "t.arr"
   ]
  },
  {
   "cell_type": "code",
   "execution_count": 19,
   "id": "ba2e09dd",
   "metadata": {},
   "outputs": [],
   "source": [
    "del t['march 6'] \n",
    "del t['march 9']\n",
    "del t ['march 19']"
   ]
  },
  {
   "cell_type": "code",
   "execution_count": 20,
   "id": "3cf41d64",
   "metadata": {},
   "outputs": [
    {
     "data": {
      "text/plain": [
       "[[('march 7', 200), ('march 18', 600)],\n",
       " [('march 8', 300)],\n",
       " [],\n",
       " [],\n",
       " [],\n",
       " [],\n",
       " [],\n",
       " [],\n",
       " [],\n",
       " [('march 17', 400)]]"
      ]
     },
     "execution_count": 20,
     "metadata": {},
     "output_type": "execute_result"
    }
   ],
   "source": [
    "t.arr"
   ]
  },
  {
   "cell_type": "code",
   "execution_count": 43,
   "id": "790cf936",
   "metadata": {},
   "outputs": [],
   "source": [
    "nyc_table = HashTable()"
   ]
  },
  {
   "cell_type": "code",
   "execution_count": 44,
   "id": "14abe103",
   "metadata": {},
   "outputs": [],
   "source": [
    "nyc_table.input_csv('nyc_weather.csv')"
   ]
  },
  {
   "cell_type": "code",
   "execution_count": 45,
   "id": "226e892d",
   "metadata": {},
   "outputs": [
    {
     "data": {
      "text/plain": [
       "[[('Jan 9', 35.0), ('Jan 10', 30.0)],\n",
       " [],\n",
       " [('Jan 1', 27.0)],\n",
       " [('Jan 2', 31.0)],\n",
       " [('Jan 3', 23.0)],\n",
       " [('Jan 4', 34.0)],\n",
       " [('Jan 5', 37.0)],\n",
       " [('Jan 6', 38.0)],\n",
       " [('Jan 7', 29.0)],\n",
       " [('Jan 8', 30.0)]]"
      ]
     },
     "execution_count": 45,
     "metadata": {},
     "output_type": "execute_result"
    }
   ],
   "source": [
    "nyc_table.arr"
   ]
  },
  {
   "cell_type": "code",
   "execution_count": 46,
   "id": "bf1a88ac",
   "metadata": {},
   "outputs": [
    {
     "data": {
      "text/plain": [
       "38.0"
      ]
     },
     "execution_count": 46,
     "metadata": {},
     "output_type": "execute_result"
    }
   ],
   "source": [
    "nyc_table.get_max()"
   ]
  },
  {
   "cell_type": "code",
   "execution_count": 47,
   "id": "09bb95f9",
   "metadata": {},
   "outputs": [
    {
     "data": {
      "text/plain": [
       "35.0"
      ]
     },
     "execution_count": 47,
     "metadata": {},
     "output_type": "execute_result"
    }
   ],
   "source": [
    "nyc_table['Jan 9']"
   ]
  },
  {
   "cell_type": "code",
   "execution_count": 48,
   "id": "820cb518",
   "metadata": {},
   "outputs": [
    {
     "data": {
      "text/plain": [
       "34.0"
      ]
     },
     "execution_count": 48,
     "metadata": {},
     "output_type": "execute_result"
    }
   ],
   "source": [
    "nyc_table['Jan 4'] "
   ]
  },
  {
   "cell_type": "code",
   "execution_count": null,
   "id": "83d187dc",
   "metadata": {},
   "outputs": [],
   "source": []
  }
 ],
 "metadata": {
  "kernelspec": {
   "display_name": "dul01",
   "language": "python",
   "name": "python3"
  },
  "language_info": {
   "codemirror_mode": {
    "name": "ipython",
    "version": 3
   },
   "file_extension": ".py",
   "mimetype": "text/x-python",
   "name": "python",
   "nbconvert_exporter": "python",
   "pygments_lexer": "ipython3",
   "version": "3.9.18"
  }
 },
 "nbformat": 4,
 "nbformat_minor": 5
}
