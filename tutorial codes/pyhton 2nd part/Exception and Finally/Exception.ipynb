{
 "cells": [
  {
   "cell_type": "code",
   "execution_count": 1,
   "id": "eb80face",
   "metadata": {},
   "outputs": [
    {
     "name": "stdout",
     "output_type": "stream",
     "text": [
      "memory error\n"
     ]
    }
   ],
   "source": [
    "try :\n",
    "    raise MemoryError('memory error')\n",
    "except MemoryError as e:\n",
    "    print(e)"
   ]
  },
  {
   "cell_type": "code",
   "execution_count": 4,
   "id": "827b7e1d",
   "metadata": {},
   "outputs": [
    {
     "name": "stdout",
     "output_type": "stream",
     "text": [
      "accident occurred take detour\n"
     ]
    }
   ],
   "source": [
    "class Accident (Exception):\n",
    "    def __init__(self, msg):\n",
    "        self.msg = msg\n",
    "\n",
    "    def handle(self):\n",
    "        print(\"accident occurred take detour\")\n",
    "\n",
    "try:\n",
    "    raise Accident('crash between two cars')\n",
    "except Accident as e:\n",
    "    e.handle()\n"
   ]
  },
  {
   "cell_type": "code",
   "execution_count": 20,
   "id": "cc90d754",
   "metadata": {},
   "outputs": [
    {
     "name": "stdout",
     "output_type": "stream",
     "text": [
      "Division by zero error: division by zero\n",
      "cleaning up file\n"
     ]
    }
   ],
   "source": [
    "def process_file():\n",
    "    try :\n",
    "       \n",
    "        f = open(\"data.txt\")\n",
    "        x = 1/0\n",
    "        \n",
    "    except FileNotFoundError as e:\n",
    "        print(\"inside except\")\n",
    "    except ZeroDivisionError as e:\n",
    "        print(\"Division by zero error:\", e)\n",
    "    finally:\n",
    "        print(\"cleaning up file\")\n",
    "        f.close\n",
    "\n",
    "process_file()"
   ]
  },
  {
   "cell_type": "code",
   "execution_count": null,
   "id": "1eb529f0",
   "metadata": {},
   "outputs": [],
   "source": []
  }
 ],
 "metadata": {
  "kernelspec": {
   "display_name": "dul01",
   "language": "python",
   "name": "python3"
  },
  "language_info": {
   "codemirror_mode": {
    "name": "ipython",
    "version": 3
   },
   "file_extension": ".py",
   "mimetype": "text/x-python",
   "name": "python",
   "nbconvert_exporter": "python",
   "pygments_lexer": "ipython3",
   "version": "3.9.18"
  }
 },
 "nbformat": 4,
 "nbformat_minor": 5
}
